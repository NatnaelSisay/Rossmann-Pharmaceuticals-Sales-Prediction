{
 "cells": [
  {
   "cell_type": "code",
   "execution_count": 1,
   "id": "94550b41",
   "metadata": {},
   "outputs": [],
   "source": [
    "import warnings\n",
    "warnings.filterwarnings(\"ignore\")\n",
    "\n",
    "import os\n",
    "import logging\n",
    "logging.basicConfig(level=os.environ.get(\"LOGLEVEL\", \"INFO\"))\n",
    "\n",
    "import pandas as pd\n",
    "\n",
    "##\n",
    "from sklearn.preprocessing import LabelEncoder\n",
    "from sklearn.preprocessing import MinMaxScaler\n",
    "from sklearn.preprocessing import StandardScaler\n",
    "from sklearn.linear_model import LinearRegression\n",
    "from sklearn.ensemble import RandomForestRegressor\n",
    "from sklearn.tree import DecisionTreeRegressor  \n",
    "\n",
    "from sklearn.model_selection import train_test_split\n",
    "from sklearn.pipeline import Pipeline\n",
    "import mlflow\n",
    "from sklearn.model_selection import KFold\n",
    "from sklearn.metrics import mean_squared_error, mean_absolute_error\n",
    "\n",
    "import pickle # Read and Save model - Serialization\n",
    "from datetime import datetime\n",
    "\n",
    "# custom functions\n",
    "import sys\n",
    "sys.path.append(\"/Users/java/Documents/10Acadamy/week - 3/Rossmann Pharmaceuticals\")\n",
    "from myscripts import util\n",
    "from myscripts import plot"
   ]
  },
  {
   "cell_type": "code",
   "execution_count": 2,
   "id": "11221682",
   "metadata": {},
   "outputs": [],
   "source": [
    "## Read Datas\n",
    "\n",
    "train_store_file = '../data/clean_train_store.csv'"
   ]
  },
  {
   "cell_type": "code",
   "execution_count": 3,
   "id": "a79d7c44",
   "metadata": {},
   "outputs": [],
   "source": [
    "train_store_df = pd.read_csv(train_store_file, parse_dates = True, low_memory = False)"
   ]
  },
  {
   "cell_type": "code",
   "execution_count": null,
   "id": "d0535875",
   "metadata": {},
   "outputs": [],
   "source": []
  },
  {
   "cell_type": "markdown",
   "id": "2ce3fddf",
   "metadata": {},
   "source": [
    "### Preprocessing"
   ]
  },
  {
   "cell_type": "code",
   "execution_count": 4,
   "id": "1ed7d678",
   "metadata": {},
   "outputs": [
    {
     "name": "stdout",
     "output_type": "stream",
     "text": [
      "<class 'pandas.core.frame.DataFrame'>\n",
      "RangeIndex: 1017209 entries, 0 to 1017208\n",
      "Data columns (total 22 columns):\n",
      " #   Column                     Non-Null Count    Dtype  \n",
      "---  ------                     --------------    -----  \n",
      " 0   Store                      1017209 non-null  int64  \n",
      " 1   DayOfWeek                  1017209 non-null  int64  \n",
      " 2   Date                       1017209 non-null  object \n",
      " 3   Sales                      1017209 non-null  int64  \n",
      " 4   Customers                  1017209 non-null  int64  \n",
      " 5   Open                       1017209 non-null  int64  \n",
      " 6   Promo                      1017209 non-null  int64  \n",
      " 7   StateHoliday               1017209 non-null  object \n",
      " 8   SchoolHoliday              1017209 non-null  int64  \n",
      " 9   Year                       1017209 non-null  int64  \n",
      " 10  Month                      1017209 non-null  int64  \n",
      " 11  Day                        1017209 non-null  int64  \n",
      " 12  WeekOfYear                 1017209 non-null  int64  \n",
      " 13  StoreType                  1017209 non-null  object \n",
      " 14  Assortment                 1017209 non-null  object \n",
      " 15  CompetitionDistance        1017209 non-null  float64\n",
      " 16  CompetitionOpenSinceMonth  1017209 non-null  float64\n",
      " 17  CompetitionOpenSinceYear   1017209 non-null  float64\n",
      " 18  Promo2                     1017209 non-null  int64  \n",
      " 19  Promo2SinceWeek            1017209 non-null  float64\n",
      " 20  Promo2SinceYear            1017209 non-null  float64\n",
      " 21  PromoInterval              1017209 non-null  object \n",
      "dtypes: float64(5), int64(12), object(5)\n",
      "memory usage: 170.7+ MB\n"
     ]
    }
   ],
   "source": [
    "train_store_df.info()"
   ]
  },
  {
   "cell_type": "code",
   "execution_count": 5,
   "id": "b2b2e5fe",
   "metadata": {},
   "outputs": [
    {
     "data": {
      "text/html": [
       "<div>\n",
       "<style scoped>\n",
       "    .dataframe tbody tr th:only-of-type {\n",
       "        vertical-align: middle;\n",
       "    }\n",
       "\n",
       "    .dataframe tbody tr th {\n",
       "        vertical-align: top;\n",
       "    }\n",
       "\n",
       "    .dataframe thead th {\n",
       "        text-align: right;\n",
       "    }\n",
       "</style>\n",
       "<table border=\"1\" class=\"dataframe\">\n",
       "  <thead>\n",
       "    <tr style=\"text-align: right;\">\n",
       "      <th></th>\n",
       "      <th>Store</th>\n",
       "      <th>DayOfWeek</th>\n",
       "      <th>Open</th>\n",
       "      <th>Promo</th>\n",
       "      <th>SchoolHoliday</th>\n",
       "      <th>Day</th>\n",
       "      <th>WeekOfYear</th>\n",
       "      <th>Month</th>\n",
       "      <th>Year</th>\n",
       "      <th>StoreType</th>\n",
       "      <th>Assortment</th>\n",
       "      <th>CompetitionDistance</th>\n",
       "      <th>Promo2</th>\n",
       "    </tr>\n",
       "  </thead>\n",
       "  <tbody>\n",
       "    <tr>\n",
       "      <th>819735</th>\n",
       "      <td>899</td>\n",
       "      <td>6</td>\n",
       "      <td>1</td>\n",
       "      <td>0</td>\n",
       "      <td>0</td>\n",
       "      <td>16</td>\n",
       "      <td>11</td>\n",
       "      <td>3</td>\n",
       "      <td>2013</td>\n",
       "      <td>d</td>\n",
       "      <td>a</td>\n",
       "      <td>2590.0</td>\n",
       "      <td>1</td>\n",
       "    </tr>\n",
       "    <tr>\n",
       "      <th>201048</th>\n",
       "      <td>222</td>\n",
       "      <td>4</td>\n",
       "      <td>1</td>\n",
       "      <td>0</td>\n",
       "      <td>0</td>\n",
       "      <td>13</td>\n",
       "      <td>24</td>\n",
       "      <td>6</td>\n",
       "      <td>2013</td>\n",
       "      <td>a</td>\n",
       "      <td>a</td>\n",
       "      <td>2170.0</td>\n",
       "      <td>0</td>\n",
       "    </tr>\n",
       "    <tr>\n",
       "      <th>683400</th>\n",
       "      <td>751</td>\n",
       "      <td>1</td>\n",
       "      <td>1</td>\n",
       "      <td>1</td>\n",
       "      <td>0</td>\n",
       "      <td>5</td>\n",
       "      <td>19</td>\n",
       "      <td>5</td>\n",
       "      <td>2014</td>\n",
       "      <td>a</td>\n",
       "      <td>a</td>\n",
       "      <td>650.0</td>\n",
       "      <td>0</td>\n",
       "    </tr>\n",
       "    <tr>\n",
       "      <th>1013118</th>\n",
       "      <td>1111</td>\n",
       "      <td>2</td>\n",
       "      <td>1</td>\n",
       "      <td>1</td>\n",
       "      <td>0</td>\n",
       "      <td>19</td>\n",
       "      <td>47</td>\n",
       "      <td>11</td>\n",
       "      <td>2013</td>\n",
       "      <td>a</td>\n",
       "      <td>a</td>\n",
       "      <td>1900.0</td>\n",
       "      <td>1</td>\n",
       "    </tr>\n",
       "    <tr>\n",
       "      <th>600398</th>\n",
       "      <td>659</td>\n",
       "      <td>3</td>\n",
       "      <td>1</td>\n",
       "      <td>1</td>\n",
       "      <td>0</td>\n",
       "      <td>20</td>\n",
       "      <td>47</td>\n",
       "      <td>11</td>\n",
       "      <td>2013</td>\n",
       "      <td>d</td>\n",
       "      <td>a</td>\n",
       "      <td>1590.0</td>\n",
       "      <td>0</td>\n",
       "    </tr>\n",
       "  </tbody>\n",
       "</table>\n",
       "</div>"
      ],
      "text/plain": [
       "         Store  DayOfWeek  Open  Promo  SchoolHoliday  Day  WeekOfYear  Month  \\\n",
       "819735     899          6     1      0              0   16          11      3   \n",
       "201048     222          4     1      0              0   13          24      6   \n",
       "683400     751          1     1      1              0    5          19      5   \n",
       "1013118   1111          2     1      1              0   19          47     11   \n",
       "600398     659          3     1      1              0   20          47     11   \n",
       "\n",
       "         Year StoreType Assortment  CompetitionDistance  Promo2  \n",
       "819735   2013         d          a               2590.0       1  \n",
       "201048   2013         a          a               2170.0       0  \n",
       "683400   2014         a          a                650.0       0  \n",
       "1013118  2013         a          a               1900.0       1  \n",
       "600398   2013         d          a               1590.0       0  "
      ]
     },
     "execution_count": 5,
     "metadata": {},
     "output_type": "execute_result"
    }
   ],
   "source": [
    "# ### columns to use\n",
    "# columns = ['DayOfWeek', 'Date', 'Open', 'Promo', 'StateHoliday',\n",
    "#        'SchoolHoliday', 'Year', 'Month', 'Day', 'WeekOfYear']\n",
    "\n",
    "\n",
    "## Lable Date and StateHoiday Train\n",
    "columns = ['Sales','Store', 'DayOfWeek', 'Open', 'Promo',  'SchoolHoliday', 'Day', 'WeekOfYear','Month', 'Year', 'StoreType',\n",
    "              'Assortment','CompetitionDistance', 'Promo2']\n",
    "\n",
    "feature_columns = ['Store', 'DayOfWeek', 'Open', 'Promo',  'SchoolHoliday', 'Day', 'WeekOfYear','Month', 'Year', 'StoreType',\n",
    "              'Assortment','CompetitionDistance', 'Promo2']\n",
    "\n",
    "sample_size = 10000\n",
    "sampled_df = train_store_df[columns].sample(sample_size)\n",
    "\n",
    "\n",
    "## Separet Test and train files\n",
    "train_x = sampled_df[feature_columns]\n",
    "train_y = sampled_df[['Sales']]\n",
    "train_x.head()\n"
   ]
  },
  {
   "cell_type": "code",
   "execution_count": 6,
   "id": "912c55de",
   "metadata": {},
   "outputs": [
    {
     "name": "stdout",
     "output_type": "stream",
     "text": [
      "<class 'pandas.core.frame.DataFrame'>\n",
      "Int64Index: 10000 entries, 819735 to 599234\n",
      "Data columns (total 13 columns):\n",
      " #   Column               Non-Null Count  Dtype  \n",
      "---  ------               --------------  -----  \n",
      " 0   Store                10000 non-null  int64  \n",
      " 1   DayOfWeek            10000 non-null  int64  \n",
      " 2   Open                 10000 non-null  int64  \n",
      " 3   Promo                10000 non-null  int64  \n",
      " 4   SchoolHoliday        10000 non-null  int64  \n",
      " 5   Day                  10000 non-null  int64  \n",
      " 6   WeekOfYear           10000 non-null  int64  \n",
      " 7   Month                10000 non-null  int64  \n",
      " 8   Year                 10000 non-null  int64  \n",
      " 9   StoreType            10000 non-null  int64  \n",
      " 10  Assortment           10000 non-null  int64  \n",
      " 11  CompetitionDistance  10000 non-null  float64\n",
      " 12  Promo2               10000 non-null  int64  \n",
      "dtypes: float64(1), int64(12)\n",
      "memory usage: 1.1 MB\n"
     ]
    }
   ],
   "source": [
    "### Label encoding\n",
    "lb = LabelEncoder()\n",
    "train_x['StoreType'] = lb.fit_transform(train_x['StoreType'])\n",
    "train_x['Assortment'] = lb.fit_transform(train_x['Assortment'])\n",
    "\n",
    "train_x.info()"
   ]
  },
  {
   "cell_type": "code",
   "execution_count": null,
   "id": "1ea2a23e",
   "metadata": {},
   "outputs": [],
   "source": []
  },
  {
   "cell_type": "code",
   "execution_count": 7,
   "id": "988684e2",
   "metadata": {},
   "outputs": [],
   "source": [
    "x_scaler = MinMaxScaler()\n",
    "y_scaler = MinMaxScaler()\n",
    "\n",
    "X = x_scaler.fit_transform(train_x)\n",
    "Y = y_scaler.fit_transform(train_y)"
   ]
  },
  {
   "cell_type": "code",
   "execution_count": 8,
   "id": "87d4c6ba",
   "metadata": {},
   "outputs": [],
   "source": [
    "X_train, X_test, y_train, y_test = train_test_split(X, Y, test_size=0.2)\n"
   ]
  },
  {
   "cell_type": "code",
   "execution_count": 9,
   "id": "6bb61260",
   "metadata": {},
   "outputs": [
    {
     "data": {
      "text/plain": [
       "RandomForestRegressor(max_depth=2, n_estimators=8, random_state=0)"
      ]
     },
     "execution_count": 9,
     "metadata": {},
     "output_type": "execute_result"
    }
   ],
   "source": [
    "rf_reg = RandomForestRegressor(n_estimators = 8, max_depth=2, random_state=0)\n",
    "rf_reg.fit(X_train, y_train)"
   ]
  },
  {
   "cell_type": "code",
   "execution_count": 10,
   "id": "dc750aeb",
   "metadata": {},
   "outputs": [
    {
     "name": "stdout",
     "output_type": "stream",
     "text": [
      "Prediction Score of the Model is 52.62%\n"
     ]
    }
   ],
   "source": [
    "score = rf_reg.score(X_test, y_test)\n",
    "print(f\"Prediction Score of the Model is {round(score * 100, 2)}%\")"
   ]
  },
  {
   "cell_type": "code",
   "execution_count": 11,
   "id": "a9a34dd8",
   "metadata": {},
   "outputs": [],
   "source": [
    "def train_model(X, Y, model_type='LinearRegression'):\n",
    "    model = LinearRegression()\n",
    "    \n",
    "    if(model_type == 'RandomForest'):\n",
    "        model = RandomForestRegressor(n_estimators = 100, max_depth=5, random_state=0)\n",
    "    \n",
    "        \n",
    "    kf = KFold(n_splits=5)\n",
    "    for train_index, test_index in kf.split(X):\n",
    "        with mlflow.start_run(run_name=model_type, nested = True):\n",
    "            X_train, X_test = X[train_index], X[test_index]\n",
    "            y_train, y_test = Y[train_index], Y[test_index]\n",
    "\n",
    "            model.fit(X_train, y_train)\n",
    "            score = model.score(X_test, y_test)\n",
    "            print(f\"Prediction Score of the {model_type} is {round(score * 100, 2)}%\")\n",
    "            \n",
    "            if(model_type == 'LinearRegression'):\n",
    "                mlflow.log_param('LR-Score', score)\n",
    "                \n",
    "            if(model_type == 'RandomForest'):\n",
    "                mlflow.log_param('RF-Score', score)\n",
    "                \n",
    "            mlflow.sklearn.log_model(model, model_type +' Model')\n",
    "            mlflow.end_run()\n",
    "            \n",
    "    print()\n",
    "\n",
    "## Running this code will create multiple mflow models \n",
    "## Create a branch before running this file\n",
    "\n",
    "# train_model(X, Y, \"RandomForest\")\n",
    "# train_model(X, Y)"
   ]
  },
  {
   "cell_type": "code",
   "execution_count": null,
   "id": "26161012",
   "metadata": {},
   "outputs": [],
   "source": []
  },
  {
   "cell_type": "markdown",
   "id": "2b034d64",
   "metadata": {},
   "source": [
    "### Building models with sklearn pipelines"
   ]
  },
  {
   "cell_type": "code",
   "execution_count": null,
   "id": "e935a5e0",
   "metadata": {},
   "outputs": [],
   "source": []
  },
  {
   "cell_type": "code",
   "execution_count": 12,
   "id": "18d92c13",
   "metadata": {},
   "outputs": [],
   "source": [
    "## Prepare the training and test features\n",
    "x = train_x\n",
    "y = train_y\n",
    "\n",
    "X_train, X_test, y_train, y_test = train_test_split(x, y,test_size=0.2)"
   ]
  },
  {
   "cell_type": "code",
   "execution_count": 33,
   "id": "038df859",
   "metadata": {},
   "outputs": [],
   "source": [
    "### Pipe Lines ###\n",
    "\n",
    "rfr = Pipeline(steps=[\n",
    "    ('scaler1', StandardScaler()),\n",
    "    ('rfr_regretion', RandomForestRegressor(n_estimators = 8, max_depth=20, random_state=0))\n",
    "])\n",
    "\n",
    "lr = Pipeline(steps=[\n",
    "    ('scaler2', StandardScaler()),\n",
    "    ('lr_regretion', LinearRegression())\n",
    "])\n",
    "\n",
    "dt = Pipeline(steps=[\n",
    "    ('scaler3', StandardScaler()),\n",
    "    ('dt_regretion', DecisionTreeRegressor(random_state = 0)  )\n",
    "])\n"
   ]
  },
  {
   "cell_type": "code",
   "execution_count": 34,
   "id": "19a865a4",
   "metadata": {},
   "outputs": [
    {
     "data": {
      "text/plain": [
       "Pipeline(steps=[('scaler3', StandardScaler()),\n",
       "                ('dt_regretion', DecisionTreeRegressor(random_state=0))])"
      ]
     },
     "execution_count": 34,
     "metadata": {},
     "output_type": "execute_result"
    }
   ],
   "source": [
    "rfr.fit(X_train, y_train)\n",
    "lr.fit(X_train, y_train)\n",
    "dt.fit(X_train, y_train)"
   ]
  },
  {
   "cell_type": "code",
   "execution_count": 35,
   "id": "a26ce4e2",
   "metadata": {},
   "outputs": [
    {
     "name": "stdout",
     "output_type": "stream",
     "text": [
      "Prediction Score of the RandomForestRegretion is 68.44%\n",
      "Prediction Score of the LinearRegretion is 51.76%\n",
      "Prediction Score of the DecisionTree is 49.87%\n"
     ]
    }
   ],
   "source": [
    "rfr_score = rfr.score(X_test, y_test)\n",
    "lr_score = lr.score(X_test, y_test)\n",
    "dt_score = dt.score(X_test, y_test)\n",
    "\n",
    "print(f\"Prediction Score of the RandomForestRegretion is {round(rfr_score * 100, 2)}%\")\n",
    "print(f\"Prediction Score of the LinearRegretion is {round(lr_score * 100, 2)}%\")\n",
    "print(f\"Prediction Score of the DecisionTree is {round(dt_score * 100, 2)}%\")\n",
    "\n",
    "# print(rfr_score)"
   ]
  },
  {
   "cell_type": "code",
   "execution_count": null,
   "id": "d81ee4b3",
   "metadata": {},
   "outputs": [],
   "source": []
  },
  {
   "cell_type": "code",
   "execution_count": null,
   "id": "83752536",
   "metadata": {},
   "outputs": [],
   "source": []
  },
  {
   "cell_type": "markdown",
   "id": "7f3c721f",
   "metadata": {},
   "source": [
    "### Choose a loss function"
   ]
  },
  {
   "cell_type": "code",
   "execution_count": 27,
   "id": "10810bb4",
   "metadata": {},
   "outputs": [
    {
     "name": "stdout",
     "output_type": "stream",
     "text": [
      "RandomForest Mean Square Loss : 220248.5%\n",
      "Linear Mean Square Loss : 272299.09%\n",
      "DecisionTree Mean Square Loss : 277586.61%\n"
     ]
    }
   ],
   "source": [
    "rfr_prediction = rfr.predict(X_test)\n",
    "lr_prediction = lr.predict(X_test)\n",
    "dt_prediction = dt.predict(X_test)\n",
    "\n",
    "rfr_rmse, rft_mae, _ = util.eval_metrics(y_test, rfr_prediction)\n",
    "lr_rmse, lr_mae, _ = util.eval_metrics(y_test, lr_prediction)\n",
    "dt_rmse, dt_mae, _ = util.eval_metrics(y_test, dt_prediction)\n",
    "\n",
    "\n",
    "# print(f\"Mean Absolute Loss : {round(mae * 100, 2)}%\")\n",
    "print(f\"RandomForest Mean Square Loss : {round(rfr_rmse * 100, 2)}%\")\n",
    "print(f\"Linear Mean Square Loss : {round(lr_rmse * 100, 2)}%\")\n",
    "print(f\"DecisionTree Mean Square Loss : {round(dt_rmse * 100, 2)}%\")"
   ]
  },
  {
   "cell_type": "markdown",
   "id": "bf52437f",
   "metadata": {},
   "source": [
    "### Post Prediction analysis"
   ]
  },
  {
   "cell_type": "code",
   "execution_count": 28,
   "id": "916cef98",
   "metadata": {},
   "outputs": [
    {
     "data": {
      "image/png": "[encoded data removed]",
      "text/plain": [
       "<Figure size 864x432 with 1 Axes>"
      ]
     },
     "metadata": {
      "needs_background": "light"
     },
     "output_type": "display_data"
    }
   ],
   "source": [
    "\n",
    "important_features = rfr[1].feature_importances_\n",
    "plot.bar(feature_columns, important_features)"
   ]
  },
  {
   "cell_type": "code",
   "execution_count": 29,
   "id": "9f4fe40a",
   "metadata": {},
   "outputs": [
    {
     "data": {
      "image/png": "[encoded data removed]",
      "text/plain": [
       "<Figure size 864x432 with 1 Axes>"
      ]
     },
     "metadata": {
      "needs_background": "light"
     },
     "output_type": "display_data"
    }
   ],
   "source": [
    "important_features = lr[1].coef_[0]\n",
    "from matplotlib import pyplot as plt\n",
    "plot.bar(feature_columns, list(important_features))"
   ]
  },
  {
   "cell_type": "code",
   "execution_count": 19,
   "id": "c9899791",
   "metadata": {},
   "outputs": [
    {
     "data": {
      "image/png": "[encoded data removed]",
      "text/plain": [
       "<Figure size 864x432 with 1 Axes>"
      ]
     },
     "metadata": {
      "needs_background": "light"
     },
     "output_type": "display_data"
    }
   ],
   "source": [
    "important_features = dt[1].feature_importances_\n",
    "plot.bar(feature_columns, important_features)"
   ]
  },
  {
   "cell_type": "markdown",
   "id": "fc2226ab",
   "metadata": {},
   "source": [
    "### Serialize models"
   ]
  },
  {
   "cell_type": "code",
   "execution_count": 20,
   "id": "cf4d2913",
   "metadata": {},
   "outputs": [
    {
     "name": "stdout",
     "output_type": "stream",
     "text": [
      "../models/reg-2021-07-30 15:01:46.929467.pkl\n"
     ]
    }
   ],
   "source": [
    "## use picke to dump mode\n",
    "## decomment picke to save the model\n",
    "\n",
    "reg_model_file_name = f'../models/reg-{datetime.now()}.pkl'\n",
    "lr_model_file_name = f'../models/lt-{datetime.now()}.pkl'\n",
    "dt_model_file_name = f'../models/dt-{datetime.now()}.pkl'\n",
    "\n",
    "files = [reg_model_file_name, lr_model_file_name, dt_model_file_name]\n",
    "models = [rfr, lr, dt]\n",
    "\n",
    "print(reg_model_file_name)\n",
    "\n",
    "\n",
    "# for i in range(len(files)):\n",
    "#         pickle.dump(models[i], open(files[i], 'wb'))"
   ]
  },
  {
   "cell_type": "code",
   "execution_count": 21,
   "id": "d0758959",
   "metadata": {},
   "outputs": [],
   "source": [
    "### Add the mlflow here\n"
   ]
  },
  {
   "cell_type": "code",
   "execution_count": 22,
   "id": "f3a9591c",
   "metadata": {},
   "outputs": [],
   "source": [
    "dt_file = '../models/dt-2021-07-30 09:51:48.726269.pkl'\n",
    "lr_file = '../models/lt-2021-07-30 12:04:14.474722.pkl'\n",
    "model = pickle.load(open(lr_file, 'rb'))"
   ]
  },
  {
   "cell_type": "code",
   "execution_count": 23,
   "id": "da3c462c",
   "metadata": {},
   "outputs": [
    {
     "data": {
      "text/plain": [
       "0.5128865203512192"
      ]
     },
     "execution_count": 23,
     "metadata": {},
     "output_type": "execute_result"
    }
   ],
   "source": [
    "score = model.score(X_test, y_test)\n",
    "score"
   ]
  }
 ],
 "metadata": {
  "kernelspec": {
   "display_name": "Python 3",
   "language": "python",
   "name": "python3"
  },
  "language_info": {
   "codemirror_mode": {
    "name": "ipython",
    "version": 3
   },
   "file_extension": ".py",
   "mimetype": "text/x-python",
   "name": "python",
   "nbconvert_exporter": "python",
   "pygments_lexer": "ipython3",
   "version": "3.8.8"
  }
 },
 "nbformat": 4,
 "nbformat_minor": 5
}
