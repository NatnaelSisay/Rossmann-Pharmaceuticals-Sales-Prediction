{
 "cells": [
  {
   "cell_type": "code",
   "execution_count": 87,
   "id": "94550b41",
   "metadata": {},
   "outputs": [],
   "source": [
    "import warnings\n",
    "warnings.filterwarnings(\"ignore\")\n",
    "\n",
    "import os\n",
    "import logging\n",
    "logging.basicConfig(level=os.environ.get(\"LOGLEVEL\", \"INFO\"))\n",
    "\n",
    "\n",
    "import pandas as pd\n",
    "\n",
    "\n",
    "##\n",
    "from sklearn.preprocessing import LabelEncoder\n",
    "from sklearn.preprocessing import MinMaxScaler\n",
    "from sklearn.linear_model import LinearRegression\n",
    "from sklearn.ensemble import RandomForestRegressor\n",
    "from sklearn.model_selection import train_test_split\n",
    "from sklearn.pipeline import Pipeline\n",
    "import mlflow\n",
    "from sklearn.model_selection import KFold\n",
    "\n",
    "# custom functions\n",
    "import sys\n",
    "sys.path.append(\"/Users/java/Documents/10Acadamy/week - 3/Rossmann Pharmaceuticals\")\n",
    "from myscripts import util\n",
    "from myscripts import plot"
   ]
  },
  {
   "cell_type": "code",
   "execution_count": 63,
   "id": "11221682",
   "metadata": {},
   "outputs": [],
   "source": [
    "## Read Datas\n",
    "\n",
    "store_file = '../data/store.csv'\n",
    "test_file = '../data/test.csv'\n",
    "train_file = '../data/train.csv'"
   ]
  },
  {
   "cell_type": "code",
   "execution_count": 64,
   "id": "a79d7c44",
   "metadata": {},
   "outputs": [],
   "source": [
    "train_df = pd.read_csv(train_file, parse_dates = True, low_memory = False)"
   ]
  },
  {
   "cell_type": "code",
   "execution_count": 4,
   "id": "d0535875",
   "metadata": {},
   "outputs": [],
   "source": [
    "test_df = pd.read_csv(test_file,parse_dates = True, low_memory = False)"
   ]
  },
  {
   "cell_type": "markdown",
   "id": "2ce3fddf",
   "metadata": {},
   "source": [
    "### Preprocessing"
   ]
  },
  {
   "cell_type": "code",
   "execution_count": 65,
   "id": "1ed7d678",
   "metadata": {},
   "outputs": [],
   "source": [
    "train_df['Date'] = pd.to_datetime(train_df['Date'])\n",
    "train_df = util.add_month_year(train_df)\n",
    "# train_df.isnull().sum()"
   ]
  },
  {
   "cell_type": "code",
   "execution_count": 66,
   "id": "b2b2e5fe",
   "metadata": {},
   "outputs": [],
   "source": [
    "## Lable Date and StateHoiday Train \n",
    "lb_encode = LabelEncoder()\n",
    "train_df['Date'] = lb_encode.fit_transform(train_df['Date'])\n",
    "train_df['StateHoliday'] = lb_encode.fit_transform(train_df['StateHoliday'])\n",
    "# train_df.info()"
   ]
  },
  {
   "cell_type": "code",
   "execution_count": null,
   "id": "17f7c32b",
   "metadata": {},
   "outputs": [],
   "source": []
  },
  {
   "cell_type": "code",
   "execution_count": 67,
   "id": "94ee43e5",
   "metadata": {},
   "outputs": [],
   "source": [
    "### columns to use\n",
    "columns = ['DayOfWeek', 'Date', 'Open', 'Promo', 'StateHoliday',\n",
    "       'SchoolHoliday', 'Year', 'Month', 'Day', 'WeekOfYear']"
   ]
  },
  {
   "cell_type": "code",
   "execution_count": 76,
   "id": "1ea2a23e",
   "metadata": {},
   "outputs": [],
   "source": [
    "sample_train = train_df.sample(1000)\n",
    "\n",
    "train_x = sample_train[columns]\n",
    "train_y = sample_train[['Sales']]"
   ]
  },
  {
   "cell_type": "code",
   "execution_count": 77,
   "id": "988684e2",
   "metadata": {},
   "outputs": [],
   "source": [
    "x_scaler = MinMaxScaler()\n",
    "y_scaler = MinMaxScaler()\n",
    "\n",
    "X = x_scaler.fit_transform(train_x)\n",
    "Y = y_scaler.fit_transform(train_y)"
   ]
  },
  {
   "cell_type": "code",
   "execution_count": 78,
   "id": "87d4c6ba",
   "metadata": {},
   "outputs": [],
   "source": [
    "X_train, X_test, y_train, y_test = train_test_split(X, Y, test_size=0.2)\n"
   ]
  },
  {
   "cell_type": "code",
   "execution_count": 79,
   "id": "6bb61260",
   "metadata": {},
   "outputs": [
    {
     "data": {
      "text/plain": [
       "RandomForestRegressor(max_depth=5, random_state=0)"
      ]
     },
     "execution_count": 79,
     "metadata": {},
     "output_type": "execute_result"
    }
   ],
   "source": [
    "clf = RandomForestRegressor(n_estimators = 100, max_depth=5, random_state=0)\n",
    "clf.fit(X_train, y_train)"
   ]
  },
  {
   "cell_type": "code",
   "execution_count": 81,
   "id": "21011e15",
   "metadata": {},
   "outputs": [
    {
     "name": "stdout",
     "output_type": "stream",
     "text": [
      "Prediction Score of the Model is 56.45%\n"
     ]
    }
   ],
   "source": [
    "score = clf.score(X_test, y_test)\n",
    "print(f\"Prediction Score of the Model is {round(score * 100, 2)}%\")"
   ]
  },
  {
   "cell_type": "code",
   "execution_count": 92,
   "id": "9bd1f0b6",
   "metadata": {},
   "outputs": [
    {
     "name": "stdout",
     "output_type": "stream",
     "text": [
      "Prediction Score of the RandomForest is 54.65%\n",
      "Prediction Score of the RandomForest is 52.05%\n",
      "Prediction Score of the RandomForest is 58.57%\n",
      "Prediction Score of the RandomForest is 55.39%\n",
      "Prediction Score of the RandomForest is 49.76%\n",
      "\n",
      "Prediction Score of the LinearRegression is 56.3%\n",
      "Prediction Score of the LinearRegression is 50.25%\n",
      "Prediction Score of the LinearRegression is 59.82%\n",
      "Prediction Score of the LinearRegression is 55.7%\n",
      "Prediction Score of the LinearRegression is 50.23%\n",
      "\n"
     ]
    }
   ],
   "source": [
    "def train_model(X, Y, model_type='LinearRegression'):\n",
    "    model = LinearRegression()\n",
    "    \n",
    "    if(model_type == 'RandomForest'):\n",
    "        model = RandomForestRegressor(n_estimators = 100, max_depth=5, random_state=0)\n",
    "    \n",
    "        \n",
    "    kf = KFold(n_splits=5)\n",
    "    for train_index, test_index in kf.split(X):\n",
    "        with mlflow.start_run(run_name=model_type, nested = True):\n",
    "            X_train, X_test = X[train_index], X[test_index]\n",
    "            y_train, y_test = Y[train_index], Y[test_index]\n",
    "\n",
    "            model.fit(X_train, y_train)\n",
    "            score = model.score(X_test, y_test)\n",
    "            \n",
    "            if(model_type == 'LinearRegression'):\n",
    "                mlflow.log_param('LR-Score', score)\n",
    "                mlflow.sklearn.log_model(reg, \"lin_regression_models\")\n",
    "                \n",
    "            if(model_type == 'RandomForest'):\n",
    "                mlflow.log_param('RF-Score', score)\n",
    "\n",
    "            print(f\"Prediction Score of the {model_type} is {round(score * 100, 2)}%\")\n",
    "    print()\n",
    "\n",
    "train_model(X, Y, \"RandomForest\")\n",
    "train_model(X, Y)"
   ]
  },
  {
   "cell_type": "code",
   "execution_count": null,
   "id": "19fca263",
   "metadata": {},
   "outputs": [],
   "source": []
  },
  {
   "cell_type": "markdown",
   "id": "2b034d64",
   "metadata": {},
   "source": [
    "### Building models with sklearn pipelines"
   ]
  },
  {
   "cell_type": "code",
   "execution_count": null,
   "id": "e935a5e0",
   "metadata": {},
   "outputs": [],
   "source": []
  },
  {
   "cell_type": "code",
   "execution_count": null,
   "id": "18d92c13",
   "metadata": {},
   "outputs": [],
   "source": []
  },
  {
   "cell_type": "code",
   "execution_count": 40,
   "id": "038df859",
   "metadata": {},
   "outputs": [
    {
     "name": "stdout",
     "output_type": "stream",
     "text": [
      "Prediction Score of the Model is 17.5%\n"
     ]
    }
   ],
   "source": []
  },
  {
   "cell_type": "markdown",
   "id": "7f3c721f",
   "metadata": {},
   "source": [
    "### Choose a loss function"
   ]
  },
  {
   "cell_type": "code",
   "execution_count": null,
   "id": "10810bb4",
   "metadata": {},
   "outputs": [],
   "source": []
  },
  {
   "cell_type": "markdown",
   "id": "bf52437f",
   "metadata": {},
   "source": [
    "### Post Prediction analysis"
   ]
  },
  {
   "cell_type": "code",
   "execution_count": null,
   "id": "916cef98",
   "metadata": {},
   "outputs": [],
   "source": []
  },
  {
   "cell_type": "markdown",
   "id": "fc2226ab",
   "metadata": {},
   "source": [
    "### Serialize models"
   ]
  },
  {
   "cell_type": "code",
   "execution_count": null,
   "id": "cf4d2913",
   "metadata": {},
   "outputs": [],
   "source": []
  },
  {
   "cell_type": "markdown",
   "id": "87efe3d6",
   "metadata": {},
   "source": [
    "### Building model with deep learning"
   ]
  },
  {
   "cell_type": "code",
   "execution_count": null,
   "id": "337e6eda",
   "metadata": {},
   "outputs": [],
   "source": []
  },
  {
   "cell_type": "markdown",
   "id": "504457c0",
   "metadata": {},
   "source": [
    "### Using MLFlow to serve the prediction"
   ]
  },
  {
   "cell_type": "code",
   "execution_count": null,
   "id": "d0758959",
   "metadata": {},
   "outputs": [],
   "source": []
  },
  {
   "cell_type": "code",
   "execution_count": null,
   "id": "f3a9591c",
   "metadata": {},
   "outputs": [],
   "source": []
  }
 ],
 "metadata": {
  "kernelspec": {
   "display_name": "Python 3",
   "language": "python",
   "name": "python3"
  },
  "language_info": {
   "codemirror_mode": {
    "name": "ipython",
    "version": 3
   },
   "file_extension": ".py",
   "mimetype": "text/x-python",
   "name": "python",
   "nbconvert_exporter": "python",
   "pygments_lexer": "ipython3",
   "version": "3.8.8"
  }
 },
 "nbformat": 4,
 "nbformat_minor": 5
}
